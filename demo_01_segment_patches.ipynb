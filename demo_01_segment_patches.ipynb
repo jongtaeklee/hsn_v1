{
 "cells": [
  {
   "cell_type": "markdown",
   "metadata": {},
   "source": [
    "# demo_01_segment_patches"
   ]
  },
  {
   "cell_type": "markdown",
   "metadata": {},
   "source": [
    "A demonstration of running the ADP tuning set through HistoSegNet and evaluating the results qualitatively and quantitatively."
   ]
  },
  {
   "cell_type": "markdown",
   "metadata": {},
   "source": [
    "## Setup"
   ]
  },
  {
   "cell_type": "code",
   "execution_count": 1,
   "metadata": {},
   "outputs": [],
   "source": [
    "import matplotlib\n",
    "import matplotlib.pyplot as plt"
   ]
  },
  {
   "cell_type": "code",
   "execution_count": 2,
   "metadata": {
    "scrolled": true
   },
   "outputs": [
    {
     "name": "stderr",
     "output_type": "stream",
     "text": [
      "Using TensorFlow backend.\n"
     ]
    }
   ],
   "source": [
    "%matplotlib inline\n",
    "import hsn_v1\n",
    "import pandas as pd\n",
    "import numpy as np\n",
    "\n",
    "from hsn_v1.adp import Atlas\n",
    "from hsn_v1.utilities import *\n",
    "from hsn_v1.histonet import HistoNet\n",
    "from hsn_v1.gradcam import GradCAM\n",
    "from hsn_v1.densecrf import DenseCRF"
   ]
  },
  {
   "cell_type": "markdown",
   "metadata": {},
   "source": [
    "## Initialize HistoSegNet"
   ]
  },
  {
   "cell_type": "markdown",
   "metadata": {},
   "source": [
    "* `input_name` $\\in$ {'01_tuning_patch', '02_glas_full'}: the segmentation set to be solved\n",
    "* `input_size` $\\in$ [int > 0, int > 0]: the resized size of the input image\n",
    "* `input_mode` $\\in$ {'patch', 'wsi'}: the type of input image, either patch ('patch') or slide ('wsi'); only patches supported in public code release\n",
    "* `down_fac` $\\in$ 0 $\\leq$ float $\\leq$ 1: the scalar by which to downsample the input image to ensure equivalent pixel resolution (1.2143 um/px / input pixel resolution)\n",
    "* `batch_size` $\\in$ int > 0: batch size of input images\n",
    "* `htt_mode` $\\in$ {'both', 'morph', 'func', 'glas'}: the type of classes to segment from the images: both morphological and functional types ('both'), only morphological types ('morph'), only functional types ('func'), and glandular/non-glandular ('glas')\n",
    "* `gt_mode` $\\in$ {'on', 'off'}: whether to assess the segmentation against the ground-truth annotations, either 'on' or 'off'\n",
    "* `run_level` $\\in$ {1, 2, 3}: the final stage to run in HistoSegNet: the first stage/CNN confidence scores (1), the third stage/modified Grad-CAMs (2), or the fourth stage/dense CRF segmentation masks (3)\n",
    "* `save_types` $\\in$ [{0, 1}, {0, 1}, {0, 1}, {0, 1}]: the types of files to save for debugging, as a list of four binary values (0/1)\n",
    "  1. HTT confidence scores: save (1), do not save (0)\n",
    "  2. Continuous Grad-CAMs: save (1), do not save (0)\n",
    "  3. Discrete segmentation masks: save (1), do not save (0)\n",
    "  4. Summary images: save (1), do not save (0)\n",
    "* `verbosity` $\\in$ {'NORMAL', 'QUIET'}: the verbosity of debug messages, either on ('NORMAL') or off ('QUIET')"
   ]
  },
  {
   "cell_type": "code",
   "execution_count": 3,
   "metadata": {},
   "outputs": [],
   "source": [
    "hsn = hsn_v1.HistoSegNetV1(params={'input_name': '01_tuning_patch', 'input_size': [224, 224], \n",
    "                                   'input_mode': 'patch', 'down_fac': 1, 'batch_size': 16, \n",
    "                                   'htt_mode': 'both', 'gt_mode': 'on', 'run_level': 3, \n",
    "                                   'save_types': [0, 0, 1, 0], 'verbosity': 'QUIET'})"
   ]
  },
  {
   "cell_type": "markdown",
   "metadata": {},
   "source": [
    "## Load images"
   ]
  },
  {
   "cell_type": "markdown",
   "metadata": {},
   "source": [
    "Load images from file"
   ]
  },
  {
   "cell_type": "code",
   "execution_count": 4,
   "metadata": {},
   "outputs": [
    {
     "data": {
      "text/plain": [
       "'070.png_crop_1432.png'"
      ]
     },
     "execution_count": 4,
     "metadata": {},
     "output_type": "execute_result"
    }
   ],
   "source": [
    "hsn.find_img()\n",
    "hsn.input_files_all[0]"
   ]
  },
  {
   "cell_type": "markdown",
   "metadata": {},
   "source": [
    "Obtain logarithmic inverse class frequencies"
   ]
  },
  {
   "cell_type": "code",
   "execution_count": 5,
   "metadata": {},
   "outputs": [],
   "source": [
    "hsn.analyze_img()"
   ]
  },
  {
   "cell_type": "markdown",
   "metadata": {},
   "source": [
    "Display logarithmic inverse class frequencies for the morphological types"
   ]
  },
  {
   "cell_type": "code",
   "execution_count": 6,
   "metadata": {},
   "outputs": [
    {
     "data": {
      "text/html": [
       "<div>\n",
       "<style scoped>\n",
       "    .dataframe tbody tr th:only-of-type {\n",
       "        vertical-align: middle;\n",
       "    }\n",
       "\n",
       "    .dataframe tbody tr th {\n",
       "        vertical-align: top;\n",
       "    }\n",
       "\n",
       "    .dataframe thead th {\n",
       "        text-align: right;\n",
       "    }\n",
       "</style>\n",
       "<table border=\"1\" class=\"dataframe\">\n",
       "  <thead>\n",
       "    <tr style=\"text-align: right;\">\n",
       "      <th></th>\n",
       "      <th>morph</th>\n",
       "    </tr>\n",
       "  </thead>\n",
       "  <tbody>\n",
       "    <tr>\n",
       "      <th>Background</th>\n",
       "      <td>0.028387</td>\n",
       "    </tr>\n",
       "    <tr>\n",
       "      <th>E.M.S</th>\n",
       "      <td>0.037301</td>\n",
       "    </tr>\n",
       "    <tr>\n",
       "      <th>E.M.U</th>\n",
       "      <td>0.030246</td>\n",
       "    </tr>\n",
       "    <tr>\n",
       "      <th>E.M.O</th>\n",
       "      <td>0.031373</td>\n",
       "    </tr>\n",
       "    <tr>\n",
       "      <th>E.T.S</th>\n",
       "      <td>0.032309</td>\n",
       "    </tr>\n",
       "    <tr>\n",
       "      <th>E.T.U</th>\n",
       "      <td>0.031002</td>\n",
       "    </tr>\n",
       "    <tr>\n",
       "      <th>E.T.O</th>\n",
       "      <td>0.034507</td>\n",
       "    </tr>\n",
       "    <tr>\n",
       "      <th>E.P</th>\n",
       "      <td>0.034125</td>\n",
       "    </tr>\n",
       "    <tr>\n",
       "      <th>C.D.I</th>\n",
       "      <td>0.028471</td>\n",
       "    </tr>\n",
       "    <tr>\n",
       "      <th>C.D.R</th>\n",
       "      <td>0.033361</td>\n",
       "    </tr>\n",
       "    <tr>\n",
       "      <th>C.L</th>\n",
       "      <td>0.029153</td>\n",
       "    </tr>\n",
       "    <tr>\n",
       "      <th>H.E</th>\n",
       "      <td>0.032533</td>\n",
       "    </tr>\n",
       "    <tr>\n",
       "      <th>H.K</th>\n",
       "      <td>0.037720</td>\n",
       "    </tr>\n",
       "    <tr>\n",
       "      <th>H.Y</th>\n",
       "      <td>0.033824</td>\n",
       "    </tr>\n",
       "    <tr>\n",
       "      <th>S.M.C</th>\n",
       "      <td>0.032883</td>\n",
       "    </tr>\n",
       "    <tr>\n",
       "      <th>S.M.S</th>\n",
       "      <td>0.035775</td>\n",
       "    </tr>\n",
       "    <tr>\n",
       "      <th>S.E</th>\n",
       "      <td>0.040472</td>\n",
       "    </tr>\n",
       "    <tr>\n",
       "      <th>S.C.H</th>\n",
       "      <td>0.034068</td>\n",
       "    </tr>\n",
       "    <tr>\n",
       "      <th>S.R</th>\n",
       "      <td>0.033321</td>\n",
       "    </tr>\n",
       "    <tr>\n",
       "      <th>A.W</th>\n",
       "      <td>0.032159</td>\n",
       "    </tr>\n",
       "    <tr>\n",
       "      <th>A.B</th>\n",
       "      <td>0.037867</td>\n",
       "    </tr>\n",
       "    <tr>\n",
       "      <th>A.M</th>\n",
       "      <td>0.039213</td>\n",
       "    </tr>\n",
       "    <tr>\n",
       "      <th>M.M</th>\n",
       "      <td>0.030903</td>\n",
       "    </tr>\n",
       "    <tr>\n",
       "      <th>M.K</th>\n",
       "      <td>0.035579</td>\n",
       "    </tr>\n",
       "    <tr>\n",
       "      <th>N.P</th>\n",
       "      <td>0.029396</td>\n",
       "    </tr>\n",
       "    <tr>\n",
       "      <th>N.R.B</th>\n",
       "      <td>0.033176</td>\n",
       "    </tr>\n",
       "    <tr>\n",
       "      <th>N.R.A</th>\n",
       "      <td>0.033845</td>\n",
       "    </tr>\n",
       "    <tr>\n",
       "      <th>N.G.M</th>\n",
       "      <td>0.044829</td>\n",
       "    </tr>\n",
       "    <tr>\n",
       "      <th>N.G.W</th>\n",
       "      <td>0.052202</td>\n",
       "    </tr>\n",
       "  </tbody>\n",
       "</table>\n",
       "</div>"
      ],
      "text/plain": [
       "               morph\n",
       "Background  0.028387\n",
       "E.M.S       0.037301\n",
       "E.M.U       0.030246\n",
       "E.M.O       0.031373\n",
       "E.T.S       0.032309\n",
       "E.T.U       0.031002\n",
       "E.T.O       0.034507\n",
       "E.P         0.034125\n",
       "C.D.I       0.028471\n",
       "C.D.R       0.033361\n",
       "C.L         0.029153\n",
       "H.E         0.032533\n",
       "H.K         0.037720\n",
       "H.Y         0.033824\n",
       "S.M.C       0.032883\n",
       "S.M.S       0.035775\n",
       "S.E         0.040472\n",
       "S.C.H       0.034068\n",
       "S.R         0.033321\n",
       "A.W         0.032159\n",
       "A.B         0.037867\n",
       "A.M         0.039213\n",
       "M.M         0.030903\n",
       "M.K         0.035579\n",
       "N.P         0.029396\n",
       "N.R.B       0.033176\n",
       "N.R.A       0.033845\n",
       "N.G.M       0.044829\n",
       "N.G.W       0.052202"
      ]
     },
     "execution_count": 6,
     "metadata": {},
     "output_type": "execute_result"
    }
   ],
   "source": [
    "df = pd.DataFrame(data=hsn.httclass_loginvfreq[0], index=hsn.httclass_valid_classes[0], columns=np.array([hsn.htt_classes[0]]))\n",
    "df"
   ]
  },
  {
   "cell_type": "markdown",
   "metadata": {},
   "source": [
    "Display logarithmic inverse class frequencies for the functional types"
   ]
  },
  {
   "cell_type": "code",
   "execution_count": 7,
   "metadata": {},
   "outputs": [
    {
     "data": {
      "text/html": [
       "<div>\n",
       "<style scoped>\n",
       "    .dataframe tbody tr th:only-of-type {\n",
       "        vertical-align: middle;\n",
       "    }\n",
       "\n",
       "    .dataframe tbody tr th {\n",
       "        vertical-align: top;\n",
       "    }\n",
       "\n",
       "    .dataframe thead th {\n",
       "        text-align: right;\n",
       "    }\n",
       "</style>\n",
       "<table border=\"1\" class=\"dataframe\">\n",
       "  <thead>\n",
       "    <tr style=\"text-align: right;\">\n",
       "      <th></th>\n",
       "      <th>func</th>\n",
       "    </tr>\n",
       "  </thead>\n",
       "  <tbody>\n",
       "    <tr>\n",
       "      <th>Background</th>\n",
       "      <td>0.200454</td>\n",
       "    </tr>\n",
       "    <tr>\n",
       "      <th>Other</th>\n",
       "      <td>0.180285</td>\n",
       "    </tr>\n",
       "    <tr>\n",
       "      <th>G.O</th>\n",
       "      <td>0.196248</td>\n",
       "    </tr>\n",
       "    <tr>\n",
       "      <th>G.N</th>\n",
       "      <td>0.211562</td>\n",
       "    </tr>\n",
       "    <tr>\n",
       "      <th>T</th>\n",
       "      <td>0.211451</td>\n",
       "    </tr>\n",
       "  </tbody>\n",
       "</table>\n",
       "</div>"
      ],
      "text/plain": [
       "                func\n",
       "Background  0.200454\n",
       "Other       0.180285\n",
       "G.O         0.196248\n",
       "G.N         0.211562\n",
       "T           0.211451"
      ]
     },
     "execution_count": 7,
     "metadata": {},
     "output_type": "execute_result"
    }
   ],
   "source": [
    "df = pd.DataFrame(data=hsn.httclass_loginvfreq[1], index=hsn.httclass_valid_classes[1], columns=np.array([hsn.htt_classes[1]]))\n",
    "df"
   ]
  },
  {
   "cell_type": "markdown",
   "metadata": {},
   "source": [
    "## Load CNN"
   ]
  },
  {
   "cell_type": "code",
   "execution_count": 8,
   "metadata": {},
   "outputs": [
    {
     "name": "stdout",
     "output_type": "stream",
     "text": [
      "Name: h5py\r\n",
      "Version: 2.10.0\r\n",
      "Summary: Read and write HDF5 files from Python\r\n",
      "Home-page: http://www.h5py.org\r\n",
      "Author: Andrew Collette\r\n",
      "Author-email: andrew.collette@gmail.com\r\n",
      "License: BSD\r\n",
      "Location: /home/jt/anaconda3/lib/python3.8/site-packages\r\n",
      "Requires: six, numpy\r\n",
      "Required-by: \r\n"
     ]
    }
   ],
   "source": [
    "!pip show h5py"
   ]
  },
  {
   "cell_type": "code",
   "execution_count": 9,
   "metadata": {},
   "outputs": [
    {
     "name": "stdout",
     "output_type": "stream",
     "text": [
      "WARNING:tensorflow:From /home/jt/anaconda3/envs/hsn36/lib/python3.6/site-packages/tensorflow/python/framework/op_def_library.py:263: colocate_with (from tensorflow.python.framework.ops) is deprecated and will be removed in a future version.\n",
      "Instructions for updating:\n",
      "Colocations handled automatically by placer.\n",
      "WARNING:tensorflow:From /home/jt/anaconda3/envs/hsn36/lib/python3.6/site-packages/keras/backend/tensorflow_backend.py:3445: calling dropout (from tensorflow.python.ops.nn_ops) with keep_prob is deprecated and will be removed in a future version.\n",
      "Instructions for updating:\n",
      "Please use `rate` instead of `keep_prob`. Rate should be set to `rate = 1 - keep_prob`.\n",
      "_________________________________________________________________\n",
      "Layer (type)                 Output Shape              Param #   \n",
      "=================================================================\n",
      "conv2d_1 (Conv2D)            (None, 224, 224, 64)      1792      \n",
      "_________________________________________________________________\n",
      "activation_1 (Activation)    (None, 224, 224, 64)      0         \n",
      "_________________________________________________________________\n",
      "batch_normalization_1 (Batch (None, 224, 224, 64)      256       \n",
      "_________________________________________________________________\n",
      "dropout_1 (Dropout)          (None, 224, 224, 64)      0         \n",
      "_________________________________________________________________\n",
      "conv2d_2 (Conv2D)            (None, 224, 224, 64)      36928     \n",
      "_________________________________________________________________\n",
      "activation_2 (Activation)    (None, 224, 224, 64)      0         \n",
      "_________________________________________________________________\n",
      "batch_normalization_2 (Batch (None, 224, 224, 64)      256       \n",
      "_________________________________________________________________\n",
      "max_pooling2d_1 (MaxPooling2 (None, 112, 112, 64)      0         \n",
      "_________________________________________________________________\n",
      "conv2d_3 (Conv2D)            (None, 112, 112, 128)     73856     \n",
      "_________________________________________________________________\n",
      "activation_3 (Activation)    (None, 112, 112, 128)     0         \n",
      "_________________________________________________________________\n",
      "batch_normalization_3 (Batch (None, 112, 112, 128)     512       \n",
      "_________________________________________________________________\n",
      "dropout_2 (Dropout)          (None, 112, 112, 128)     0         \n",
      "_________________________________________________________________\n",
      "conv2d_4 (Conv2D)            (None, 112, 112, 128)     147584    \n",
      "_________________________________________________________________\n",
      "activation_4 (Activation)    (None, 112, 112, 128)     0         \n",
      "_________________________________________________________________\n",
      "batch_normalization_4 (Batch (None, 112, 112, 128)     512       \n",
      "_________________________________________________________________\n",
      "max_pooling2d_2 (MaxPooling2 (None, 56, 56, 128)       0         \n",
      "_________________________________________________________________\n",
      "conv2d_5 (Conv2D)            (None, 56, 56, 256)       295168    \n",
      "_________________________________________________________________\n",
      "activation_5 (Activation)    (None, 56, 56, 256)       0         \n",
      "_________________________________________________________________\n",
      "batch_normalization_5 (Batch (None, 56, 56, 256)       1024      \n",
      "_________________________________________________________________\n",
      "dropout_3 (Dropout)          (None, 56, 56, 256)       0         \n",
      "_________________________________________________________________\n",
      "conv2d_6 (Conv2D)            (None, 56, 56, 256)       590080    \n",
      "_________________________________________________________________\n",
      "activation_6 (Activation)    (None, 56, 56, 256)       0         \n",
      "_________________________________________________________________\n",
      "batch_normalization_6 (Batch (None, 56, 56, 256)       1024      \n",
      "_________________________________________________________________\n",
      "dropout_4 (Dropout)          (None, 56, 56, 256)       0         \n",
      "_________________________________________________________________\n",
      "conv2d_7 (Conv2D)            (None, 56, 56, 256)       590080    \n",
      "_________________________________________________________________\n",
      "activation_7 (Activation)    (None, 56, 56, 256)       0         \n",
      "_________________________________________________________________\n",
      "batch_normalization_7 (Batch (None, 56, 56, 256)       1024      \n",
      "_________________________________________________________________\n",
      "max_pooling2d_3 (MaxPooling2 (None, 28, 28, 256)       0         \n",
      "_________________________________________________________________\n",
      "max_pooling2d_4 (MaxPooling2 (None, 1, 1, 256)         0         \n",
      "_________________________________________________________________\n",
      "flatten_1 (Flatten)          (None, 256)               0         \n",
      "_________________________________________________________________\n",
      "dense_1 (Dense)              (None, 51)                13107     \n",
      "_________________________________________________________________\n",
      "activation_8 (Activation)    (None, 51)                0         \n",
      "=================================================================\n",
      "Total params: 1,753,203\n",
      "Trainable params: 1,750,899\n",
      "Non-trainable params: 2,304\n",
      "_________________________________________________________________\n",
      "None\n"
     ]
    }
   ],
   "source": [
    "hsn.load_histonet(params={'model_name': 'histonet_X1.7_clrdecay_5'})\n",
    "print(hsn.hn.model.summary())"
   ]
  },
  {
   "cell_type": "markdown",
   "metadata": {},
   "source": [
    "Print the loaded class score thresholds"
   ]
  },
  {
   "cell_type": "code",
   "execution_count": 10,
   "metadata": {},
   "outputs": [
    {
     "data": {
      "text/html": [
       "<div>\n",
       "<style scoped>\n",
       "    .dataframe tbody tr th:only-of-type {\n",
       "        vertical-align: middle;\n",
       "    }\n",
       "\n",
       "    .dataframe tbody tr th {\n",
       "        vertical-align: top;\n",
       "    }\n",
       "\n",
       "    .dataframe thead th {\n",
       "        text-align: right;\n",
       "    }\n",
       "</style>\n",
       "<table border=\"1\" class=\"dataframe\">\n",
       "  <thead>\n",
       "    <tr style=\"text-align: right;\">\n",
       "      <th></th>\n",
       "      <th>0</th>\n",
       "    </tr>\n",
       "  </thead>\n",
       "  <tbody>\n",
       "    <tr>\n",
       "      <th>E</th>\n",
       "      <td>0.720844</td>\n",
       "    </tr>\n",
       "    <tr>\n",
       "      <th>E.M</th>\n",
       "      <td>0.656404</td>\n",
       "    </tr>\n",
       "    <tr>\n",
       "      <th>E.M.S</th>\n",
       "      <td>0.420312</td>\n",
       "    </tr>\n",
       "    <tr>\n",
       "      <th>E.M.U</th>\n",
       "      <td>0.419097</td>\n",
       "    </tr>\n",
       "    <tr>\n",
       "      <th>E.M.O</th>\n",
       "      <td>0.428349</td>\n",
       "    </tr>\n",
       "    <tr>\n",
       "      <th>E.T</th>\n",
       "      <td>0.603345</td>\n",
       "    </tr>\n",
       "    <tr>\n",
       "      <th>E.T.S</th>\n",
       "      <td>0.333333</td>\n",
       "    </tr>\n",
       "    <tr>\n",
       "      <th>E.T.U</th>\n",
       "      <td>0.489809</td>\n",
       "    </tr>\n",
       "    <tr>\n",
       "      <th>E.T.O</th>\n",
       "      <td>0.333333</td>\n",
       "    </tr>\n",
       "    <tr>\n",
       "      <th>E.P</th>\n",
       "      <td>0.333333</td>\n",
       "    </tr>\n",
       "    <tr>\n",
       "      <th>C</th>\n",
       "      <td>0.756199</td>\n",
       "    </tr>\n",
       "    <tr>\n",
       "      <th>C.D</th>\n",
       "      <td>0.340588</td>\n",
       "    </tr>\n",
       "    <tr>\n",
       "      <th>C.D.I</th>\n",
       "      <td>0.333333</td>\n",
       "    </tr>\n",
       "    <tr>\n",
       "      <th>C.D.R</th>\n",
       "      <td>0.333333</td>\n",
       "    </tr>\n",
       "    <tr>\n",
       "      <th>C.L</th>\n",
       "      <td>0.551754</td>\n",
       "    </tr>\n",
       "    <tr>\n",
       "      <th>H</th>\n",
       "      <td>0.577365</td>\n",
       "    </tr>\n",
       "    <tr>\n",
       "      <th>H.E</th>\n",
       "      <td>0.487684</td>\n",
       "    </tr>\n",
       "    <tr>\n",
       "      <th>H.K</th>\n",
       "      <td>0.333333</td>\n",
       "    </tr>\n",
       "    <tr>\n",
       "      <th>H.Y</th>\n",
       "      <td>0.455780</td>\n",
       "    </tr>\n",
       "    <tr>\n",
       "      <th>S</th>\n",
       "      <td>0.423960</td>\n",
       "    </tr>\n",
       "    <tr>\n",
       "      <th>S.M</th>\n",
       "      <td>0.357728</td>\n",
       "    </tr>\n",
       "    <tr>\n",
       "      <th>S.M.C</th>\n",
       "      <td>0.453480</td>\n",
       "    </tr>\n",
       "    <tr>\n",
       "      <th>S.M.S</th>\n",
       "      <td>0.377504</td>\n",
       "    </tr>\n",
       "    <tr>\n",
       "      <th>S.E</th>\n",
       "      <td>0.728794</td>\n",
       "    </tr>\n",
       "    <tr>\n",
       "      <th>S.C</th>\n",
       "      <td>0.738026</td>\n",
       "    </tr>\n",
       "    <tr>\n",
       "      <th>S.C.H</th>\n",
       "      <td>0.333333</td>\n",
       "    </tr>\n",
       "    <tr>\n",
       "      <th>S.R</th>\n",
       "      <td>0.964739</td>\n",
       "    </tr>\n",
       "    <tr>\n",
       "      <th>A</th>\n",
       "      <td>0.339476</td>\n",
       "    </tr>\n",
       "    <tr>\n",
       "      <th>A.W</th>\n",
       "      <td>0.333333</td>\n",
       "    </tr>\n",
       "    <tr>\n",
       "      <th>A.B</th>\n",
       "      <td>0.500000</td>\n",
       "    </tr>\n",
       "    <tr>\n",
       "      <th>A.M</th>\n",
       "      <td>0.963768</td>\n",
       "    </tr>\n",
       "    <tr>\n",
       "      <th>M</th>\n",
       "      <td>0.333333</td>\n",
       "    </tr>\n",
       "    <tr>\n",
       "      <th>M.M</th>\n",
       "      <td>0.333333</td>\n",
       "    </tr>\n",
       "    <tr>\n",
       "      <th>M.K</th>\n",
       "      <td>0.333333</td>\n",
       "    </tr>\n",
       "    <tr>\n",
       "      <th>N</th>\n",
       "      <td>0.333333</td>\n",
       "    </tr>\n",
       "    <tr>\n",
       "      <th>N.P</th>\n",
       "      <td>0.887729</td>\n",
       "    </tr>\n",
       "    <tr>\n",
       "      <th>N.R</th>\n",
       "      <td>0.333333</td>\n",
       "    </tr>\n",
       "    <tr>\n",
       "      <th>N.R.B</th>\n",
       "      <td>0.540835</td>\n",
       "    </tr>\n",
       "    <tr>\n",
       "      <th>N.R.A</th>\n",
       "      <td>0.333333</td>\n",
       "    </tr>\n",
       "    <tr>\n",
       "      <th>N.G</th>\n",
       "      <td>0.881226</td>\n",
       "    </tr>\n",
       "    <tr>\n",
       "      <th>N.G.M</th>\n",
       "      <td>0.387146</td>\n",
       "    </tr>\n",
       "    <tr>\n",
       "      <th>N.G.A</th>\n",
       "      <td>0.500000</td>\n",
       "    </tr>\n",
       "    <tr>\n",
       "      <th>N.G.O</th>\n",
       "      <td>0.500000</td>\n",
       "    </tr>\n",
       "    <tr>\n",
       "      <th>N.G.E</th>\n",
       "      <td>0.500000</td>\n",
       "    </tr>\n",
       "    <tr>\n",
       "      <th>N.G.R</th>\n",
       "      <td>0.500000</td>\n",
       "    </tr>\n",
       "    <tr>\n",
       "      <th>N.G.W</th>\n",
       "      <td>0.937337</td>\n",
       "    </tr>\n",
       "    <tr>\n",
       "      <th>N.G.T</th>\n",
       "      <td>0.500000</td>\n",
       "    </tr>\n",
       "    <tr>\n",
       "      <th>G</th>\n",
       "      <td>0.728526</td>\n",
       "    </tr>\n",
       "    <tr>\n",
       "      <th>G.O</th>\n",
       "      <td>0.777848</td>\n",
       "    </tr>\n",
       "    <tr>\n",
       "      <th>G.N</th>\n",
       "      <td>0.333333</td>\n",
       "    </tr>\n",
       "    <tr>\n",
       "      <th>T</th>\n",
       "      <td>0.553801</td>\n",
       "    </tr>\n",
       "  </tbody>\n",
       "</table>\n",
       "</div>"
      ],
      "text/plain": [
       "              0\n",
       "E      0.720844\n",
       "E.M    0.656404\n",
       "E.M.S  0.420312\n",
       "E.M.U  0.419097\n",
       "E.M.O  0.428349\n",
       "E.T    0.603345\n",
       "E.T.S  0.333333\n",
       "E.T.U  0.489809\n",
       "E.T.O  0.333333\n",
       "E.P    0.333333\n",
       "C      0.756199\n",
       "C.D    0.340588\n",
       "C.D.I  0.333333\n",
       "C.D.R  0.333333\n",
       "C.L    0.551754\n",
       "H      0.577365\n",
       "H.E    0.487684\n",
       "H.K    0.333333\n",
       "H.Y    0.455780\n",
       "S      0.423960\n",
       "S.M    0.357728\n",
       "S.M.C  0.453480\n",
       "S.M.S  0.377504\n",
       "S.E    0.728794\n",
       "S.C    0.738026\n",
       "S.C.H  0.333333\n",
       "S.R    0.964739\n",
       "A      0.339476\n",
       "A.W    0.333333\n",
       "A.B    0.500000\n",
       "A.M    0.963768\n",
       "M      0.333333\n",
       "M.M    0.333333\n",
       "M.K    0.333333\n",
       "N      0.333333\n",
       "N.P    0.887729\n",
       "N.R    0.333333\n",
       "N.R.B  0.540835\n",
       "N.R.A  0.333333\n",
       "N.G    0.881226\n",
       "N.G.M  0.387146\n",
       "N.G.A  0.500000\n",
       "N.G.O  0.500000\n",
       "N.G.E  0.500000\n",
       "N.G.R  0.500000\n",
       "N.G.W  0.937337\n",
       "N.G.T  0.500000\n",
       "G      0.728526\n",
       "G.O    0.777848\n",
       "G.N    0.333333\n",
       "T      0.553801"
      ]
     },
     "execution_count": 10,
     "metadata": {},
     "output_type": "execute_result"
    }
   ],
   "source": [
    "df = pd.DataFrame(data=hsn.hn.thresholds[0], index=hsn.atlas.level5)\n",
    "df"
   ]
  },
  {
   "cell_type": "markdown",
   "metadata": {},
   "source": [
    "## Run all batches"
   ]
  },
  {
   "cell_type": "code",
   "execution_count": 11,
   "metadata": {},
   "outputs": [],
   "source": [
    "confscores = np.zeros((len(hsn.input_files_all), len(hsn.hn.class_names)))\n",
    "iou = {}\n",
    "fiou = {}\n",
    "miou = {}\n",
    "num_batches = (len(hsn.input_files_all) + hsn.batch_size - 1) // hsn.batch_size\n",
    "for iter_batch in range(num_batches):\n",
    "    start = iter_batch * hsn.batch_size\n",
    "    end = min((iter_batch + 1) * hsn.batch_size, len(hsn.input_files_all))\n",
    "    hsn.input_files_batch = hsn.input_files_all[start:end]\n",
    "    # Normalize image batch\n",
    "    hsn.load_norm_imgs()\n",
    "    # Load ground-truth annotations\n",
    "    hsn.load_gt()\n",
    "    # Segment image\n",
    "    hsn.segment_img()\n",
    "    # Evaluate segmentation\n",
    "    iou['GradCAM'], fiou['GradCAM'], miou['GradCAM'] = hsn.eval_segmentation(hsn.intersect_counts['GradCAM'], hsn.union_counts['GradCAM'],\n",
    "                                                                             hsn.confusion_matrix['GradCAM'], hsn.gt_counts['GradCAM'],\n",
    "                                                                             httclass_pred_segmasks=hsn.ablative_segmasks['GradCAM'], tag_name='GradCAM')\n",
    "    iou['Adjust'], fiou['Adjust'], miou['Adjust'] = hsn.eval_segmentation(hsn.intersect_counts['Adjust'], hsn.union_counts['Adjust'],\n",
    "                                                                          hsn.confusion_matrix['Adjust'], hsn.gt_counts['Adjust'],\n",
    "                                                                          httclass_pred_segmasks=hsn.ablative_segmasks['Adjust'], tag_name='Adjust')\n",
    "    iou['CRF'], fiou['CRF'], miou['CRF'] = hsn.eval_segmentation(hsn.intersect_counts['CRF'], hsn.union_counts['CRF'],\n",
    "                                                                 hsn.confusion_matrix['CRF'], hsn.gt_counts['CRF'],\n",
    "                                                                 httclass_pred_segmasks=hsn.ablative_segmasks['CRF'], tag_name='CRF')"
   ]
  },
  {
   "cell_type": "markdown",
   "metadata": {},
   "source": [
    "## Qualitative performance"
   ]
  },
  {
   "cell_type": "markdown",
   "metadata": {},
   "source": [
    "### Original images and Ground-truth annotations"
   ]
  },
  {
   "cell_type": "markdown",
   "metadata": {},
   "source": [
    "Display original image, morphological ground truth, and functional ground truth annotations"
   ]
  },
  {
   "cell_type": "code",
   "execution_count": 12,
   "metadata": {},
   "outputs": [
    {
     "data": {
      "text/plain": [
       "Text(0.5, 1.0, 'Functional\\n ground truth')"
      ]
     },
     "execution_count": 12,
     "metadata": {},
     "output_type": "execute_result"
    },
    {
     "data": {
      "image/png": "[encoded data removed]",
      "text/plain": [
       "<Figure size 432x288 with 3 Axes>"
      ]
     },
     "metadata": {
      "needs_background": "light"
     },
     "output_type": "display_data"
    }
   ],
   "source": [
    "plt.figure\n",
    "plt.subplot(131)\n",
    "plt.imshow(hsn.input_images[0].astype('uint8'))\n",
    "plt.title('Original image')\n",
    "plt.subplot(132)\n",
    "plt.imshow(hsn.httclass_gt_segmasks[0][0].astype('uint8'))\n",
    "plt.title('Morphological\\n ground truth')\n",
    "plt.subplot(133)\n",
    "plt.imshow(hsn.httclass_gt_segmasks[1][0].astype('uint8'))\n",
    "plt.title('Functional\\n ground truth')"
   ]
  },
  {
   "cell_type": "markdown",
   "metadata": {},
   "source": [
    "### Predicted segmentations, stage-by-stage"
   ]
  },
  {
   "cell_type": "markdown",
   "metadata": {},
   "source": [
    "Display the predicted segmentations after Stages 2, 3, and 4 for a sample image, for the morphological types"
   ]
  },
  {
   "cell_type": "code",
   "execution_count": 13,
   "metadata": {},
   "outputs": [
    {
     "data": {
      "text/plain": [
       "Text(0.5, 1.0, '(4) Segmentation\\n Post-Processing\\n(morphological)')"
      ]
     },
     "execution_count": 13,
     "metadata": {},
     "output_type": "execute_result"
    },
    {
     "data": {
      "image/png": "[encoded data removed]",
      "text/plain": [
       "<Figure size 432x288 with 3 Axes>"
      ]
     },
     "metadata": {
      "needs_background": "light"
     },
     "output_type": "display_data"
    }
   ],
   "source": [
    "plt.figure\n",
    "plt.subplot(131)\n",
    "plt.imshow(hsn.ablative_segmasks['GradCAM'][0][0])\n",
    "plt.title('(2) Pixel-level\\n Segmentation\\n(morphological)')\n",
    "plt.subplot(132)\n",
    "plt.imshow(hsn.ablative_segmasks['Adjust'][0][0])\n",
    "plt.title('(3) Inter-HTT\\n Adjustments\\n(morphological)')\n",
    "plt.subplot(133)\n",
    "plt.imshow(hsn.ablative_segmasks['CRF'][0][0])\n",
    "plt.title('(4) Segmentation\\n Post-Processing\\n(morphological)')"
   ]
  },
  {
   "cell_type": "markdown",
   "metadata": {},
   "source": [
    "Display the predicted segmentations after Stages 2, 3, and 4 for a sample image, for the functional types"
   ]
  },
  {
   "cell_type": "code",
   "execution_count": 14,
   "metadata": {},
   "outputs": [
    {
     "data": {
      "text/plain": [
       "Text(0.5, 1.0, '(4) Segmentation\\n Post-Processing\\n(functional)')"
      ]
     },
     "execution_count": 14,
     "metadata": {},
     "output_type": "execute_result"
    },
    {
     "data": {
      "image/png": "[encoded data removed]",
      "text/plain": [
       "<Figure size 432x288 with 3 Axes>"
      ]
     },
     "metadata": {
      "needs_background": "light"
     },
     "output_type": "display_data"
    }
   ],
   "source": [
    "plt.figure\n",
    "plt.subplot(131)\n",
    "plt.imshow(hsn.ablative_segmasks['GradCAM'][1][0])\n",
    "plt.title('(2) Pixel-level\\n Segmentation\\n(functional)')\n",
    "plt.subplot(132)\n",
    "plt.imshow(hsn.ablative_segmasks['Adjust'][1][0])\n",
    "plt.title('(3) Inter-HTT\\n Adjustments\\n(functional)')\n",
    "plt.subplot(133)\n",
    "plt.imshow(hsn.ablative_segmasks['CRF'][1][0])\n",
    "plt.title('(4) Segmentation\\n Post-Processing\\n(functional)')"
   ]
  },
  {
   "cell_type": "markdown",
   "metadata": {},
   "source": [
    "## Quantitative performance"
   ]
  },
  {
   "cell_type": "markdown",
   "metadata": {},
   "source": [
    "### Morphological types"
   ]
  },
  {
   "cell_type": "markdown",
   "metadata": {},
   "source": [
    "Class IoU"
   ]
  },
  {
   "cell_type": "code",
   "execution_count": 15,
   "metadata": {
    "scrolled": true
   },
   "outputs": [
    {
     "data": {
      "text/plain": [
       "<matplotlib.axes._subplots.AxesSubplot at 0x7fcc7f5664e0>"
      ]
     },
     "execution_count": 15,
     "metadata": {},
     "output_type": "execute_result"
    },
    {
     "data": {
      "image/png": "[encoded data removed]",
      "text/plain": [
       "<Figure size 432x288 with 1 Axes>"
      ]
     },
     "metadata": {
      "needs_background": "light"
     },
     "output_type": "display_data"
    }
   ],
   "source": [
    "df = pd.DataFrame(data=iou['CRF'][0], index=hsn.httclass_valid_classes[0], columns=np.array(['IoU']))\n",
    "df.plot.bar(y='IoU')"
   ]
  },
  {
   "cell_type": "markdown",
   "metadata": {},
   "source": [
    "Frequency-weighted IoU"
   ]
  },
  {
   "cell_type": "code",
   "execution_count": 16,
   "metadata": {},
   "outputs": [
    {
     "data": {
      "text/plain": [
       "0.20567515021442848"
      ]
     },
     "execution_count": 16,
     "metadata": {},
     "output_type": "execute_result"
    }
   ],
   "source": [
    "fiou['CRF'][0]"
   ]
  },
  {
   "cell_type": "markdown",
   "metadata": {},
   "source": [
    "Mean IoU"
   ]
  },
  {
   "cell_type": "code",
   "execution_count": 17,
   "metadata": {},
   "outputs": [
    {
     "data": {
      "text/plain": [
       "0.22060561066883094"
      ]
     },
     "execution_count": 17,
     "metadata": {},
     "output_type": "execute_result"
    }
   ],
   "source": [
    "miou['CRF'][0]"
   ]
  },
  {
   "cell_type": "markdown",
   "metadata": {},
   "source": [
    "### Functional types"
   ]
  },
  {
   "cell_type": "markdown",
   "metadata": {},
   "source": [
    "Class IoU"
   ]
  },
  {
   "cell_type": "code",
   "execution_count": 18,
   "metadata": {},
   "outputs": [
    {
     "data": {
      "text/plain": [
       "<matplotlib.axes._subplots.AxesSubplot at 0x7fcc7f49b320>"
      ]
     },
     "execution_count": 18,
     "metadata": {},
     "output_type": "execute_result"
    },
    {
     "data": {
      "image/png": "[encoded data removed]",
      "text/plain": [
       "<Figure size 432x288 with 1 Axes>"
      ]
     },
     "metadata": {
      "needs_background": "light"
     },
     "output_type": "display_data"
    }
   ],
   "source": [
    "df = pd.DataFrame(data=iou['CRF'][1], index=hsn.httclass_valid_classes[1], columns=np.array(['IoU']))\n",
    "df.plot.bar(y='IoU')"
   ]
  },
  {
   "cell_type": "markdown",
   "metadata": {},
   "source": [
    "Frequency-weighted IoU"
   ]
  },
  {
   "cell_type": "code",
   "execution_count": 19,
   "metadata": {},
   "outputs": [
    {
     "data": {
      "text/plain": [
       "0.5421715749664008"
      ]
     },
     "execution_count": 19,
     "metadata": {},
     "output_type": "execute_result"
    }
   ],
   "source": [
    "fiou['CRF'][1]"
   ]
  },
  {
   "cell_type": "markdown",
   "metadata": {},
   "source": [
    "Mean IoU"
   ]
  },
  {
   "cell_type": "code",
   "execution_count": 18,
   "metadata": {},
   "outputs": [
    {
     "data": {
      "text/plain": [
       "0.5505286801193577"
      ]
     },
     "execution_count": 18,
     "metadata": {},
     "output_type": "execute_result"
    }
   ],
   "source": [
    "miou['CRF'][1]"
   ]
  }
 ],
 "metadata": {
  "kernelspec": {
   "display_name": "hsn36",
   "language": "python",
   "name": "hsn36"
  },
  "language_info": {
   "codemirror_mode": {
    "name": "ipython",
    "version": 3
   },
   "file_extension": ".py",
   "mimetype": "text/x-python",
   "name": "python",
   "nbconvert_exporter": "python",
   "pygments_lexer": "ipython3",
   "version": "3.6.13"
  }
 },
 "nbformat": 4,
 "nbformat_minor": 2
}
